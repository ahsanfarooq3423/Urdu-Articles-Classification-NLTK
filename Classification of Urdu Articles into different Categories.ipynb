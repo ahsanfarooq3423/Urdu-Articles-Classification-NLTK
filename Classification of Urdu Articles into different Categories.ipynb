{
 "cells": [
  {
   "cell_type": "code",
   "execution_count": 56,
   "metadata": {},
   "outputs": [],
   "source": [
    "import nltk\n",
    "import numpy as np\n",
    "import pandas as pd\n",
    "from urllib import request\n",
    "from bs4 import BeautifulSoup\n",
    "from nltk import word_tokenize\n",
    "import re"
   ]
  },
  {
   "cell_type": "code",
   "execution_count": 57,
   "metadata": {},
   "outputs": [],
   "source": [
    "\n",
    "import os\n",
    "os.getcwd()\n",
    "os.chdir(r'/Users/ahsan/Documents/git/Urdu-Article-Classification')\n"
   ]
  },
  {
   "cell_type": "markdown",
   "metadata": {},
   "source": [
    "<h2>Reading the saved csv files</h2>"
   ]
  },
  {
   "cell_type": "code",
   "execution_count": 80,
   "metadata": {},
   "outputs": [],
   "source": [
    "#Reading the sports articles\n",
    "\n",
    "data = pd.read_csv('sports.csv')\n",
    "sports_articles = []\n",
    "for i in range(len(data)):\n",
    "    sports_articles.append([])\n",
    "    \n",
    "for j in range(len(data)):\n",
    "    for i in data['0'][j].split():\n",
    "        sports_articles[j].append(i)\n",
    "\n"
   ]
  },
  {
   "cell_type": "code",
   "execution_count": 81,
   "metadata": {},
   "outputs": [],
   "source": [
    "#Reading the Science articles\n",
    "\n",
    "data = pd.read_csv('science.csv')\n",
    "science_articles = []\n",
    "for i in range(len(data)):\n",
    "    science_articles.append([])\n",
    "    \n",
    "for j in range(len(data)):\n",
    "    for i in data['0'][j].split():\n",
    "        science_articles[j].append(i)\n"
   ]
  },
  {
   "cell_type": "code",
   "execution_count": 82,
   "metadata": {},
   "outputs": [],
   "source": [
    "def bag_of_words_article(words):\n",
    "    return {\n",
    "        word:1 for word in words\n",
    "    }"
   ]
  },
  {
   "cell_type": "code",
   "execution_count": 83,
   "metadata": {},
   "outputs": [],
   "source": [
    "sports_features = []\n",
    "for i in range(len(sports_articles)):\n",
    "    sports_features.append((bag_of_words_article(sports_articles[i]), 'sports'))\n",
    "    \n",
    "    \n"
   ]
  },
  {
   "cell_type": "code",
   "execution_count": 84,
   "metadata": {},
   "outputs": [
    {
     "data": {
      "text/plain": [
       "99"
      ]
     },
     "execution_count": 84,
     "metadata": {},
     "output_type": "execute_result"
    }
   ],
   "source": [
    "len(sports_features)"
   ]
  },
  {
   "cell_type": "code",
   "execution_count": 85,
   "metadata": {},
   "outputs": [],
   "source": [
    "science_features = []\n",
    "for i in range(len(science_articles)):\n",
    "    science_features.append((bag_of_words_article(science_articles[i]), 'science'))"
   ]
  },
  {
   "cell_type": "code",
   "execution_count": 86,
   "metadata": {},
   "outputs": [
    {
     "data": {
      "text/plain": [
       "99"
      ]
     },
     "execution_count": 86,
     "metadata": {},
     "output_type": "execute_result"
    }
   ],
   "source": [
    "len(science_features)"
   ]
  },
  {
   "cell_type": "markdown",
   "metadata": {},
   "source": [
    "<h2>Training and Building the Model</h2>"
   ]
  },
  {
   "cell_type": "code",
   "execution_count": 87,
   "metadata": {},
   "outputs": [],
   "source": [
    "from nltk.classify import NaiveBayesClassifier"
   ]
  },
  {
   "cell_type": "code",
   "execution_count": 88,
   "metadata": {},
   "outputs": [
    {
     "data": {
      "text/plain": [
       "99"
      ]
     },
     "execution_count": 88,
     "metadata": {},
     "output_type": "execute_result"
    }
   ],
   "source": [
    "len(science_features)"
   ]
  },
  {
   "cell_type": "code",
   "execution_count": 89,
   "metadata": {},
   "outputs": [
    {
     "data": {
      "text/plain": [
       "True"
      ]
     },
     "execution_count": 89,
     "metadata": {},
     "output_type": "execute_result"
    }
   ],
   "source": [
    "len(sports_features) == len(science_features)"
   ]
  },
  {
   "cell_type": "code",
   "execution_count": 91,
   "metadata": {},
   "outputs": [],
   "source": [
    "split = 79"
   ]
  },
  {
   "cell_type": "code",
   "execution_count": 92,
   "metadata": {},
   "outputs": [],
   "source": [
    "classifier = NaiveBayesClassifier.train(sports_features[:split]+science_features[:split])"
   ]
  },
  {
   "cell_type": "code",
   "execution_count": 93,
   "metadata": {},
   "outputs": [
    {
     "data": {
      "text/plain": [
       "100.0"
      ]
     },
     "execution_count": 93,
     "metadata": {},
     "output_type": "execute_result"
    }
   ],
   "source": [
    "nltk.classify.util.accuracy(classifier, sports_features[split:]+science_features[split:])*100"
   ]
  },
  {
   "cell_type": "code",
   "execution_count": 94,
   "metadata": {},
   "outputs": [
    {
     "name": "stdout",
     "output_type": "stream",
     "text": [
      "Most Informative Features\n",
      "                 'شکست', = 1              sports : scienc =     31.0 : 1.0\n",
      "                'کپتان', = 1              sports : scienc =     29.7 : 1.0\n",
      "            'یونیورسٹی', = 1              scienc : sports =     27.0 : 1.0\n",
      "                  'میچ', = 1              sports : scienc =     27.0 : 1.0\n",
      "               'کھیلنے', = 1              sports : scienc =     24.3 : 1.0\n",
      "                   'کپ', = 1              sports : scienc =     21.8 : 1.0\n",
      "                'کھیلے', = 1              sports : scienc =     21.7 : 1.0\n",
      "             'پاکستانی', = 1              sports : scienc =     20.2 : 1.0\n",
      "                'فائنل', = 1              sports : scienc =     19.0 : 1.0\n",
      "                 'زمین', = 1              scienc : sports =     19.0 : 1.0\n",
      "                 'محمد', = 1              sports : scienc =     19.0 : 1.0\n",
      "                'انسان', = 1              scienc : sports =     18.3 : 1.0\n",
      "                   'ون', = 1              sports : scienc =     18.3 : 1.0\n",
      "               'کھلاڑی', = 1              sports : scienc =     17.0 : 1.0\n",
      "                'سیریز', = 1              sports : scienc =     17.0 : 1.0\n"
     ]
    }
   ],
   "source": [
    "classifier.show_most_informative_features(15)"
   ]
  }
 ],
 "metadata": {
  "kernelspec": {
   "display_name": "Python 3",
   "language": "python",
   "name": "python3"
  },
  "language_info": {
   "codemirror_mode": {
    "name": "ipython",
    "version": 3
   },
   "file_extension": ".py",
   "mimetype": "text/x-python",
   "name": "python",
   "nbconvert_exporter": "python",
   "pygments_lexer": "ipython3",
   "version": "3.7.3"
  }
 },
 "nbformat": 4,
 "nbformat_minor": 2
}
